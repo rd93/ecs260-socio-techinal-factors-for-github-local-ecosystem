{
 "cells": [
  {
   "cell_type": "raw",
   "metadata": {},
   "source": [
    "!pip install perceval"
   ]
  },
  {
   "cell_type": "code",
   "execution_count": 1,
   "metadata": {},
   "outputs": [],
   "source": [
    "import os\n",
    "import perceval\n",
    "import requests\n",
    "import urllib\n",
    "from bs4 import BeautifulSoup as bs\n",
    "import pandas as pd \n",
    "import sys\n",
    "import cv2\n",
    "import os\n",
    "import tqdm"
   ]
  },
  {
   "cell_type": "markdown",
   "metadata": {},
   "source": [
    "# Scrapping the mail archives"
   ]
  },
  {
   "cell_type": "code",
   "execution_count": 2,
   "metadata": {},
   "outputs": [],
   "source": [
    "url_mail_arc = 'https://mail-archives.apache.org/mod_mbox/'\n",
    "host_mail_arc = 'mail-archives.apache.org'\n",
    "base = pd.DataFrame(columns = {'project','mail_list_type','href'})\n",
    "year = pd.DataFrame(columns = {'project','mail_list_type','href','monyear','mbox_link','total_mail'})\n",
    "year2 = pd.DataFrame(columns = {'project','mail_list_type','href','monyear','mbox_link','total_mail'})\n",
    "user = pd.DataFrame(columns = {'project','mail_list_type','href','monyear','mbox_link','total_mail','user'})"
   ]
  },
  {
   "cell_type": "code",
   "execution_count": 3,
   "metadata": {},
   "outputs": [],
   "source": [
    "payload={\n",
    "        \"Accept\": \"text/html,application/xhtml+xml,application/xml;q=0.9,image/avif,image/webp,image/apng,*/*;q=0.8,application/signed-exchange;v=b3;q=0.9\",\n",
    "        \"Accept-Encoding\": \"gzip, deflate, br\",\n",
    "        \"Accept-Language\": \"en-GB,en;q=0.9\",\n",
    "        \"Cache-Control\": \"max-age=0\",\n",
    "        \"Connection\": \"keep-alive\",\n",
    "        \"Host\": host_mail_arc,\n",
    "        \"If-Modified-Since\": \"Tue, 02 Nov 2021 00:57:28 GMT\",\n",
    "        \"If-None-Match\": \"1dc43-5cfc3c708b690-gzip\",\n",
    "        \"Referer\": \"https://mail-archives.apache.org/\",\n",
    "        \"Sec-Fetch-Dest\": \"document\",\n",
    "        \"Sec-Fetch-Mode\": \"navigate\",\n",
    "        \"Sec-Fetch-Site\": \"same-origin\",\n",
    "        \"Sec-Fetch-User\": \"?1\",\n",
    "        \"Sec-GPC\": \"1\",\n",
    "        \"Upgrade-Insecure-Requests\": \"1\",\n",
    "        \"User-Agent\": \"Mozilla/5.0 (Macintosh; Intel Mac OS X 10_15_7) AppleWebKit/537.36 (KHTML, like Gecko) Chrome/90.0.4430.93 Safari/537.36\"\n",
    "        }"
   ]
  },
  {
   "cell_type": "code",
   "execution_count": 4,
   "metadata": {},
   "outputs": [
    {
     "name": "stderr",
     "output_type": "stream",
     "text": [
      "100%|██████████| 3/3 [00:01<00:00,  1.72it/s]\n"
     ]
    }
   ],
   "source": [
    "s = requests.Session()\n",
    "r = s.get(url_mail_arc,headers=payload)\n",
    "soup = bs(r.text)\n",
    "li = soup.findAll(\"td\")\n",
    "for i in tqdm.tqdm(li):\n",
    "    mainli = i.findAll(\"ul\",recursive=False)[0].findAll(\"li\",recursive=False)\n",
    "    for j in mainli:\n",
    "        title = j.findAll('h3')[0].text\n",
    "        for k in j.findAll(\"li\"):\n",
    "            base = base.append({'project':title,'mail_list_type':k.text, 'href':k.findAll('a')[0]['href']},ignore_index=True)"
   ]
  },
  {
   "cell_type": "code",
   "execution_count": 5,
   "metadata": {},
   "outputs": [],
   "source": [
    "rachit = pd.read_csv('op.csv')"
   ]
  },
  {
   "cell_type": "code",
   "execution_count": 6,
   "metadata": {},
   "outputs": [],
   "source": [
    "rachit = rachit[rachit['Is Source?']==True].reset_index(drop=True)"
   ]
  },
  {
   "cell_type": "code",
   "execution_count": 7,
   "metadata": {},
   "outputs": [],
   "source": [
    "rachit['repo'] = rachit['Repo Name'].str.split('/').str[-1]"
   ]
  },
  {
   "cell_type": "raw",
   "metadata": {
    "scrolled": true
   },
   "source": [
    "for _,i in tqdm.tqdm(base.iterrows()):\n",
    "    s = requests.Session()\n",
    "    r = s.get(url_mail_arc+i.href,headers=payload)\n",
    "    soup = bs(r.text)\n",
    "    monyear = soup.findAll('td',{'class':'date'})\n",
    "    links = soup.findAll('td',{'class':'links'})\n",
    "    msgcount = soup.findAll('td',{'class':'msgcount'})\n",
    "    for j in range(len(monyear)):\n",
    "        year = year.append({'project':i.project,'mail_list_type':i.mail_list_type,\n",
    "                        'href':i.href,'monyear':monyear[j].string,\n",
    "                        'mbox_link':links[j].findAll('a')[0]['href'].split('/')[0],\n",
    "                        'total_mail':msgcount[j].string},ignore_index=True)"
   ]
  },
  {
   "cell_type": "raw",
   "metadata": {},
   "source": [
    "year.to_csv('mail_archive_links.csv')"
   ]
  },
  {
   "cell_type": "code",
   "execution_count": 8,
   "metadata": {},
   "outputs": [],
   "source": [
    "year = pd.read_csv('mail_archive_links.csv').drop({'Unnamed: 0'},axis=1)"
   ]
  },
  {
   "cell_type": "code",
   "execution_count": 9,
   "metadata": {},
   "outputs": [],
   "source": [
    "for _,i in rachit.iterrows():\n",
    "    year2 = year2.append(year[year['href'].str.contains(i.repo)],\n",
    "                         ignore_index=True)"
   ]
  },
  {
   "cell_type": "code",
   "execution_count": 21,
   "metadata": {},
   "outputs": [
    {
     "name": "stderr",
     "output_type": "stream",
     "text": [
      "4000it [7:23:15,  6.65s/it] \n"
     ]
    }
   ],
   "source": [
    "for _,i in tqdm.tqdm(year2[1000:5000].iterrows()):\n",
    "    s = requests.Session()\n",
    "    r = s.get(url_mail_arc+i.href+i.mbox_link+'/ajax/thread?0',headers=payload)\n",
    "    soup = bs(r.text,'xml')\n",
    "    #print(url_mail_arc+i.href+i.mbox_link+'/ajax/thread?0')\n",
    "    for j in soup.findAll('from'):\n",
    "        user = user.append({'project':i.project,'mail_list_type':i.mail_list_type,\n",
    "                        'href':i.href,'monyear':i.monyear,\n",
    "                        'mbox_link':i.mbox_link,\n",
    "                        'total_mail':i.total_mail,'user':j.string},ignore_index=True)"
   ]
  },
  {
   "cell_type": "code",
   "execution_count": 22,
   "metadata": {},
   "outputs": [],
   "source": [
    "user.to_csv('mid_user_4.csv')"
   ]
  },
  {
   "cell_type": "code",
   "execution_count": 23,
   "metadata": {},
   "outputs": [
    {
     "data": {
      "text/html": [
       "<div>\n",
       "<style scoped>\n",
       "    .dataframe tbody tr th:only-of-type {\n",
       "        vertical-align: middle;\n",
       "    }\n",
       "\n",
       "    .dataframe tbody tr th {\n",
       "        vertical-align: top;\n",
       "    }\n",
       "\n",
       "    .dataframe thead th {\n",
       "        text-align: right;\n",
       "    }\n",
       "</style>\n",
       "<table border=\"1\" class=\"dataframe\">\n",
       "  <thead>\n",
       "    <tr style=\"text-align: right;\">\n",
       "      <th></th>\n",
       "      <th>mbox_link</th>\n",
       "      <th>monyear</th>\n",
       "      <th>user</th>\n",
       "      <th>href</th>\n",
       "      <th>total_mail</th>\n",
       "      <th>project</th>\n",
       "      <th>mail_list_type</th>\n",
       "    </tr>\n",
       "  </thead>\n",
       "  <tbody>\n",
       "    <tr>\n",
       "      <th>0</th>\n",
       "      <td>201105.mbox</td>\n",
       "      <td>May 2011</td>\n",
       "      <td>br...@apache.org</td>\n",
       "      <td>maven-wagon-commits/</td>\n",
       "      <td>22</td>\n",
       "      <td>maven.apache.org lists:</td>\n",
       "      <td>wagon-commits</td>\n",
       "    </tr>\n",
       "    <tr>\n",
       "      <th>1</th>\n",
       "      <td>201105.mbox</td>\n",
       "      <td>May 2011</td>\n",
       "      <td>denn...@apache.org</td>\n",
       "      <td>maven-wagon-commits/</td>\n",
       "      <td>22</td>\n",
       "      <td>maven.apache.org lists:</td>\n",
       "      <td>wagon-commits</td>\n",
       "    </tr>\n",
       "    <tr>\n",
       "      <th>2</th>\n",
       "      <td>201105.mbox</td>\n",
       "      <td>May 2011</td>\n",
       "      <td>strub...@apache.org</td>\n",
       "      <td>maven-wagon-commits/</td>\n",
       "      <td>22</td>\n",
       "      <td>maven.apache.org lists:</td>\n",
       "      <td>wagon-commits</td>\n",
       "    </tr>\n",
       "    <tr>\n",
       "      <th>3</th>\n",
       "      <td>201105.mbox</td>\n",
       "      <td>May 2011</td>\n",
       "      <td>strub...@apache.org</td>\n",
       "      <td>maven-wagon-commits/</td>\n",
       "      <td>22</td>\n",
       "      <td>maven.apache.org lists:</td>\n",
       "      <td>wagon-commits</td>\n",
       "    </tr>\n",
       "    <tr>\n",
       "      <th>4</th>\n",
       "      <td>201105.mbox</td>\n",
       "      <td>May 2011</td>\n",
       "      <td>strub...@apache.org</td>\n",
       "      <td>maven-wagon-commits/</td>\n",
       "      <td>22</td>\n",
       "      <td>maven.apache.org lists:</td>\n",
       "      <td>wagon-commits</td>\n",
       "    </tr>\n",
       "    <tr>\n",
       "      <th>...</th>\n",
       "      <td>...</td>\n",
       "      <td>...</td>\n",
       "      <td>...</td>\n",
       "      <td>...</td>\n",
       "      <td>...</td>\n",
       "      <td>...</td>\n",
       "      <td>...</td>\n",
       "    </tr>\n",
       "    <tr>\n",
       "      <th>698243</th>\n",
       "      <td>201306.mbox</td>\n",
       "      <td>Jun 2013</td>\n",
       "      <td>jo...@apache.org</td>\n",
       "      <td>opennlp-commits/</td>\n",
       "      <td>10</td>\n",
       "      <td>opennlp.apache.org lists:</td>\n",
       "      <td>commits</td>\n",
       "    </tr>\n",
       "    <tr>\n",
       "      <th>698244</th>\n",
       "      <td>201306.mbox</td>\n",
       "      <td>Jun 2013</td>\n",
       "      <td>auta...@apache.org</td>\n",
       "      <td>opennlp-commits/</td>\n",
       "      <td>10</td>\n",
       "      <td>opennlp.apache.org lists:</td>\n",
       "      <td>commits</td>\n",
       "    </tr>\n",
       "    <tr>\n",
       "      <th>698245</th>\n",
       "      <td>201306.mbox</td>\n",
       "      <td>Jun 2013</td>\n",
       "      <td>auta...@apache.org</td>\n",
       "      <td>opennlp-commits/</td>\n",
       "      <td>10</td>\n",
       "      <td>opennlp.apache.org lists:</td>\n",
       "      <td>commits</td>\n",
       "    </tr>\n",
       "    <tr>\n",
       "      <th>698246</th>\n",
       "      <td>201306.mbox</td>\n",
       "      <td>Jun 2013</td>\n",
       "      <td>build...@apache.org</td>\n",
       "      <td>opennlp-commits/</td>\n",
       "      <td>10</td>\n",
       "      <td>opennlp.apache.org lists:</td>\n",
       "      <td>commits</td>\n",
       "    </tr>\n",
       "    <tr>\n",
       "      <th>698247</th>\n",
       "      <td>201306.mbox</td>\n",
       "      <td>Jun 2013</td>\n",
       "      <td>auta...@apache.org</td>\n",
       "      <td>opennlp-commits/</td>\n",
       "      <td>10</td>\n",
       "      <td>opennlp.apache.org lists:</td>\n",
       "      <td>commits</td>\n",
       "    </tr>\n",
       "  </tbody>\n",
       "</table>\n",
       "<p>698248 rows × 7 columns</p>\n",
       "</div>"
      ],
      "text/plain": [
       "          mbox_link   monyear                 user                  href  \\\n",
       "0       201105.mbox  May 2011     br...@apache.org  maven-wagon-commits/   \n",
       "1       201105.mbox  May 2011   denn...@apache.org  maven-wagon-commits/   \n",
       "2       201105.mbox  May 2011  strub...@apache.org  maven-wagon-commits/   \n",
       "3       201105.mbox  May 2011  strub...@apache.org  maven-wagon-commits/   \n",
       "4       201105.mbox  May 2011  strub...@apache.org  maven-wagon-commits/   \n",
       "...             ...       ...                  ...                   ...   \n",
       "698243  201306.mbox  Jun 2013     jo...@apache.org      opennlp-commits/   \n",
       "698244  201306.mbox  Jun 2013   auta...@apache.org      opennlp-commits/   \n",
       "698245  201306.mbox  Jun 2013   auta...@apache.org      opennlp-commits/   \n",
       "698246  201306.mbox  Jun 2013  build...@apache.org      opennlp-commits/   \n",
       "698247  201306.mbox  Jun 2013   auta...@apache.org      opennlp-commits/   \n",
       "\n",
       "       total_mail                    project mail_list_type  \n",
       "0              22    maven.apache.org lists:  wagon-commits  \n",
       "1              22    maven.apache.org lists:  wagon-commits  \n",
       "2              22    maven.apache.org lists:  wagon-commits  \n",
       "3              22    maven.apache.org lists:  wagon-commits  \n",
       "4              22    maven.apache.org lists:  wagon-commits  \n",
       "...           ...                        ...            ...  \n",
       "698243         10  opennlp.apache.org lists:        commits  \n",
       "698244         10  opennlp.apache.org lists:        commits  \n",
       "698245         10  opennlp.apache.org lists:        commits  \n",
       "698246         10  opennlp.apache.org lists:        commits  \n",
       "698247         10  opennlp.apache.org lists:        commits  \n",
       "\n",
       "[698248 rows x 7 columns]"
      ]
     },
     "execution_count": 23,
     "metadata": {},
     "output_type": "execute_result"
    }
   ],
   "source": [
    "user"
   ]
  },
  {
   "cell_type": "code",
   "execution_count": 16,
   "metadata": {},
   "outputs": [
    {
     "data": {
      "text/plain": [
       "array(['wagon-commits', 'wagon-dev', 'wagon-users', 'fop-commits',\n",
       "       'fop-dev', 'fop-users', 'scm-commits', 'scm-dev', 'scm-users',\n",
       "       'pluto-dev', 'pluto-scm', 'pluto-user', 'commits', 'dev',\n",
       "       'general', 'user', 'doxia-commits', 'doxia-dev', 'doxia-users',\n",
       "       'scm', 'xbean-dev', 'xbean-scm', 'xbean-user', 'site-pub',\n",
       "       'distributedlog-commits', 'distributedlog-dev',\n",
       "       'distributedlog-issues', 'distributedlog-user', 'issues',\n",
       "       'rampart-c-dev', 'rampart-dev', 'notifications', 'users',\n",
       "       'oak-commits', 'oak-dev', 'oak-issues'], dtype=object)"
      ]
     },
     "execution_count": 16,
     "metadata": {},
     "output_type": "execute_result"
    }
   ],
   "source": [
    "user['mail_list_type'].unique()"
   ]
  },
  {
   "cell_type": "code",
   "execution_count": null,
   "metadata": {},
   "outputs": [
    {
     "name": "stderr",
     "output_type": "stream",
     "text": [
      "34365it [9:18:31,  1.19s/it] "
     ]
    }
   ],
   "source": [
    "os.chdir('/Users/suvivarshney/Documents/UCD_Live/ECS260 SE/Project/mail_arc/')\n",
    "for _,i in tqdm.tqdm(year.iterrows()):\n",
    "    os.system('wget '+url_mail_arc+i.href+i.mbox_link)"
   ]
  },
  {
   "cell_type": "code",
   "execution_count": null,
   "metadata": {},
   "outputs": [],
   "source": [
    "year"
   ]
  },
  {
   "cell_type": "markdown",
   "metadata": {},
   "source": [
    "# Scrapping the repo status and other info "
   ]
  },
  {
   "cell_type": "code",
   "execution_count": 22,
   "metadata": {},
   "outputs": [],
   "source": [
    "url_status = 'https://projects.apache.org/projects.html?name'\n",
    "host_mail_arc = 'projects.apache.org'\n",
    "podling_url = 'https://projects.apache.org/json/foundation/podlings.json'\n",
    "podling_history_url = 'https://projects.apache.org/json/foundation/podlings-history.json'\n",
    "comittee_retired_url = 'https://projects.apache.org/json/foundation/committees-retired.json'"
   ]
  },
  {
   "cell_type": "code",
   "execution_count": 137,
   "metadata": {},
   "outputs": [],
   "source": [
    "payload={\n",
    "        \"Accept\": \"text/html,application/xhtml+xml,application/xml;q=0.9,image/avif,image/webp,image/apng,*/*;q=0.8,application/signed-exchange;v=b3;q=0.9\",\n",
    "        \"Accept-Encoding\": \"gzip, deflate, br\",\n",
    "        \"Accept-Language\": \"en-GB,en;q=0.9\",\n",
    "        \"Cache-Control\": \"max-age=0\",\n",
    "        \"Connection\": \"keep-alive\",\n",
    "        \"Host\": host_mail_arc,\n",
    "        \"If-Modified-Since\": \"Tue, 02 Nov 2021 00:57:28 GMT\",\n",
    "        \"If-None-Match\": \"1dc43-5cfc3c708b690-gzip\",\n",
    "        \"Referer\": \"https://mail-archives.apache.org/\",\n",
    "        \"Sec-Fetch-Dest\": \"document\",\n",
    "        \"Sec-Fetch-Mode\": \"navigate\",\n",
    "        \"Sec-Fetch-Site\": \"same-origin\",\n",
    "        \"Sec-Fetch-User\": \"?1\",\n",
    "        \"Sec-GPC\": \"1\",\n",
    "        \"Upgrade-Insecure-Requests\": \"1\",\n",
    "        \"User-Agent\": \"Mozilla/5.0 (Macintosh; Intel Mac OS X 10_15_7) AppleWebKit/537.36 (KHTML, like Gecko) Chrome/90.0.4430.93 Safari/537.36\"\n",
    "        }"
   ]
  },
  {
   "cell_type": "code",
   "execution_count": 18,
   "metadata": {},
   "outputs": [
    {
     "data": {
      "text/plain": [
       "('podling.json', <http.client.HTTPMessage at 0x7fcc8943f9d0>)"
      ]
     },
     "execution_count": 18,
     "metadata": {},
     "output_type": "execute_result"
    }
   ],
   "source": [
    "urllib.request.urlretrieve(podling_url, \"podling.json\")"
   ]
  },
  {
   "cell_type": "code",
   "execution_count": 20,
   "metadata": {},
   "outputs": [
    {
     "data": {
      "text/plain": [
       "('podling_history.json ', <http.client.HTTPMessage at 0x7fcc3802d460>)"
      ]
     },
     "execution_count": 20,
     "metadata": {},
     "output_type": "execute_result"
    }
   ],
   "source": [
    "urllib.request.urlretrieve(podling_history_url, \"podling_history.json \")"
   ]
  },
  {
   "cell_type": "code",
   "execution_count": 23,
   "metadata": {},
   "outputs": [
    {
     "data": {
      "text/plain": [
       "('comittee_retired_url.json ', <http.client.HTTPMessage at 0x7fcc3802d0a0>)"
      ]
     },
     "execution_count": 23,
     "metadata": {},
     "output_type": "execute_result"
    }
   ],
   "source": [
    "urllib.request.urlretrieve(comittee_retired_url, \"comittee_retired_url.json \")"
   ]
  },
  {
   "cell_type": "code",
   "execution_count": null,
   "metadata": {},
   "outputs": [],
   "source": []
  }
 ],
 "metadata": {
  "kernelspec": {
   "display_name": "Python 3",
   "language": "python",
   "name": "python3"
  },
  "language_info": {
   "codemirror_mode": {
    "name": "ipython",
    "version": 3
   },
   "file_extension": ".py",
   "mimetype": "text/x-python",
   "name": "python",
   "nbconvert_exporter": "python",
   "pygments_lexer": "ipython3",
   "version": "3.8.5"
  }
 },
 "nbformat": 4,
 "nbformat_minor": 4
}
