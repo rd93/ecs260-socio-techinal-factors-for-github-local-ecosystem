{
 "cells": [
  {
   "cell_type": "code",
   "execution_count": 9,
   "metadata": {},
   "outputs": [
    {
     "name": "stdout",
     "output_type": "stream",
     "text": [
      "\u001b[31mERROR: Could not find a version that satisfies the requirement urllib2 (from versions: none)\u001b[0m\r\n",
      "\u001b[31mERROR: No matching distribution found for urllib2\u001b[0m\r\n"
     ]
    }
   ],
   "source": [
    "!pip install urllib2"
   ]
  },
  {
   "cell_type": "code",
   "execution_count": 17,
   "metadata": {},
   "outputs": [],
   "source": [
    "import os\n",
    "import perceval\n",
    "import requests\n",
    "import urllib\n",
    "from bs4 import BeautifulSoup as bs\n",
    "import pandas as pd \n",
    "import sys\n",
    "import cv2\n",
    "import os\n",
    "import tqdm\n",
    "import json"
   ]
  },
  {
   "cell_type": "code",
   "execution_count": 38,
   "metadata": {},
   "outputs": [],
   "source": [
    "releases_url = 'https://projects.apache.org/json/foundation/releases.json?0.8321215568016254'"
   ]
  },
  {
   "cell_type": "code",
   "execution_count": 53,
   "metadata": {},
   "outputs": [],
   "source": [
    "releases = pd.DataFrame(columns={'project','release','date'})"
   ]
  },
  {
   "cell_type": "code",
   "execution_count": 40,
   "metadata": {},
   "outputs": [],
   "source": [
    "response = requests.get(releases_url)\n",
    "response.raise_for_status()  \n",
    "data = response.json()"
   ]
  },
  {
   "cell_type": "raw",
   "metadata": {},
   "source": [
    "urllib.request.urlretrieve(releases_url, \"releases.json\")"
   ]
  },
  {
   "cell_type": "code",
   "execution_count": 54,
   "metadata": {},
   "outputs": [],
   "source": [
    "for i in data.keys():\n",
    "    for j in data[i].keys():\n",
    "        releases = releases.append({'project':i,'release':j,'date':data[i][j]},ignore_index=True)"
   ]
  },
  {
   "cell_type": "code",
   "execution_count": 61,
   "metadata": {},
   "outputs": [],
   "source": [
    "release = releases.sort_values(by=['project','date']).reset_index(drop=True)"
   ]
  },
  {
   "cell_type": "code",
   "execution_count": 62,
   "metadata": {},
   "outputs": [],
   "source": [
    "release['delay'] = [0]*release.shape[0]"
   ]
  },
  {
   "cell_type": "code",
   "execution_count": 71,
   "metadata": {},
   "outputs": [],
   "source": [
    "release['delay'] = pd.to_datetime(release['date']).diff()"
   ]
  },
  {
   "cell_type": "code",
   "execution_count": 84,
   "metadata": {},
   "outputs": [
    {
     "data": {
      "text/html": [
       "<div>\n",
       "<style scoped>\n",
       "    .dataframe tbody tr th:only-of-type {\n",
       "        vertical-align: middle;\n",
       "    }\n",
       "\n",
       "    .dataframe tbody tr th {\n",
       "        vertical-align: top;\n",
       "    }\n",
       "\n",
       "    .dataframe thead th {\n",
       "        text-align: right;\n",
       "    }\n",
       "</style>\n",
       "<table border=\"1\" class=\"dataframe\">\n",
       "  <thead>\n",
       "    <tr style=\"text-align: right;\">\n",
       "      <th></th>\n",
       "      <th>release</th>\n",
       "      <th>date</th>\n",
       "      <th>project</th>\n",
       "      <th>delay</th>\n",
       "    </tr>\n",
       "  </thead>\n",
       "  <tbody>\n",
       "    <tr>\n",
       "      <th>0</th>\n",
       "      <td>accumulo2-maven-plugin-1.0.0</td>\n",
       "      <td>2020-07-06</td>\n",
       "      <td>accumulo</td>\n",
       "      <td>NaT</td>\n",
       "    </tr>\n",
       "    <tr>\n",
       "      <th>1</th>\n",
       "      <td>accumulo-1.10.1</td>\n",
       "      <td>2020-12-22</td>\n",
       "      <td>accumulo</td>\n",
       "      <td>169 days</td>\n",
       "    </tr>\n",
       "    <tr>\n",
       "      <th>2</th>\n",
       "      <td>accumulo-2.0.1</td>\n",
       "      <td>2020-12-25</td>\n",
       "      <td>accumulo</td>\n",
       "      <td>3 days</td>\n",
       "    </tr>\n",
       "    <tr>\n",
       "      <th>3</th>\n",
       "      <td>Apache.NMS-1.5.1</td>\n",
       "      <td>2020-07-03</td>\n",
       "      <td>activemq</td>\n",
       "      <td>-175 days</td>\n",
       "    </tr>\n",
       "    <tr>\n",
       "      <th>4</th>\n",
       "      <td>Apache.NMS-1.7.1</td>\n",
       "      <td>2020-07-03</td>\n",
       "      <td>activemq</td>\n",
       "      <td>0 days</td>\n",
       "    </tr>\n",
       "    <tr>\n",
       "      <th>...</th>\n",
       "      <td>...</td>\n",
       "      <td>...</td>\n",
       "      <td>...</td>\n",
       "      <td>...</td>\n",
       "    </tr>\n",
       "    <tr>\n",
       "      <th>3642</th>\n",
       "      <td>zeppelin-0.9.0</td>\n",
       "      <td>2020-12-20</td>\n",
       "      <td>zeppelin</td>\n",
       "      <td>150 days</td>\n",
       "    </tr>\n",
       "    <tr>\n",
       "      <th>3643</th>\n",
       "      <td>zeppelin-0.10.0</td>\n",
       "      <td>2021-08-17</td>\n",
       "      <td>zeppelin</td>\n",
       "      <td>240 days</td>\n",
       "    </tr>\n",
       "    <tr>\n",
       "      <th>3644</th>\n",
       "      <td>apache-zookeeper-3.5.9</td>\n",
       "      <td>2021-01-14</td>\n",
       "      <td>zookeeper</td>\n",
       "      <td>-215 days</td>\n",
       "    </tr>\n",
       "    <tr>\n",
       "      <th>3645</th>\n",
       "      <td>apache-zookeeper-3.7.0</td>\n",
       "      <td>2021-03-27</td>\n",
       "      <td>zookeeper</td>\n",
       "      <td>72 days</td>\n",
       "    </tr>\n",
       "    <tr>\n",
       "      <th>3646</th>\n",
       "      <td>apache-zookeeper-3.6.3</td>\n",
       "      <td>2021-04-12</td>\n",
       "      <td>zookeeper</td>\n",
       "      <td>16 days</td>\n",
       "    </tr>\n",
       "  </tbody>\n",
       "</table>\n",
       "<p>3647 rows × 4 columns</p>\n",
       "</div>"
      ],
      "text/plain": [
       "                           release        date    project     delay\n",
       "0     accumulo2-maven-plugin-1.0.0  2020-07-06   accumulo       NaT\n",
       "1                  accumulo-1.10.1  2020-12-22   accumulo  169 days\n",
       "2                   accumulo-2.0.1  2020-12-25   accumulo    3 days\n",
       "3                 Apache.NMS-1.5.1  2020-07-03   activemq -175 days\n",
       "4                 Apache.NMS-1.7.1  2020-07-03   activemq    0 days\n",
       "...                            ...         ...        ...       ...\n",
       "3642                zeppelin-0.9.0  2020-12-20   zeppelin  150 days\n",
       "3643               zeppelin-0.10.0  2021-08-17   zeppelin  240 days\n",
       "3644        apache-zookeeper-3.5.9  2021-01-14  zookeeper -215 days\n",
       "3645        apache-zookeeper-3.7.0  2021-03-27  zookeeper   72 days\n",
       "3646        apache-zookeeper-3.6.3  2021-04-12  zookeeper   16 days\n",
       "\n",
       "[3647 rows x 4 columns]"
      ]
     },
     "execution_count": 84,
     "metadata": {},
     "output_type": "execute_result"
    }
   ],
   "source": [
    "release"
   ]
  },
  {
   "cell_type": "code",
   "execution_count": 85,
   "metadata": {},
   "outputs": [],
   "source": [
    "gp = release.groupby(['project']).agg({'release':lambda x: x.iloc[1:].count(),\n",
    "                                 'delay':lambda x: x.iloc[1:].sum()}).reset_index()"
   ]
  },
  {
   "cell_type": "code",
   "execution_count": 88,
   "metadata": {},
   "outputs": [],
   "source": [
    "gp['average_delay_in_release'] = gp['delay']/gp['release']"
   ]
  },
  {
   "cell_type": "code",
   "execution_count": 92,
   "metadata": {},
   "outputs": [],
   "source": [
    "gp[['project','average_delay_in_release']].to_csv('average_delay_in_release.csv')"
   ]
  },
  {
   "cell_type": "code",
   "execution_count": null,
   "metadata": {},
   "outputs": [],
   "source": []
  },
  {
   "cell_type": "code",
   "execution_count": null,
   "metadata": {},
   "outputs": [],
   "source": []
  },
  {
   "cell_type": "code",
   "execution_count": null,
   "metadata": {},
   "outputs": [],
   "source": []
  },
  {
   "cell_type": "code",
   "execution_count": 93,
   "metadata": {},
   "outputs": [],
   "source": [
    "rachit = pd.read_csv('op.csv')\n",
    "rachit = rachit[rachit['Is Source?']==True].reset_index(drop=True)\n",
    "rachit['repo'] = rachit['Repo Name'].str.split('/').str[-1]"
   ]
  },
  {
   "cell_type": "code",
   "execution_count": 94,
   "metadata": {},
   "outputs": [],
   "source": [
    "year = pd.read_csv('mail_archive_links.csv').drop({'Unnamed: 0'},axis=1)"
   ]
  },
  {
   "cell_type": "code",
   "execution_count": 95,
   "metadata": {},
   "outputs": [],
   "source": [
    "year2 = pd.DataFrame(columns = {'project','mail_list_type','href','monyear','mbox_link','total_mail'})\n",
    "for _,i in rachit.iterrows():\n",
    "    year2 = year2.append(year[year['href'].str.contains(i.repo)],\n",
    "                         ignore_index=True)"
   ]
  },
  {
   "cell_type": "code",
   "execution_count": 100,
   "metadata": {},
   "outputs": [],
   "source": [
    "year2.groupby(['project'])['total_mail'].sum().reset_index().to_csv('no_of_emails.csv')"
   ]
  },
  {
   "cell_type": "code",
   "execution_count": null,
   "metadata": {},
   "outputs": [],
   "source": []
  }
 ],
 "metadata": {
  "kernelspec": {
   "display_name": "Python 3",
   "language": "python",
   "name": "python3"
  },
  "language_info": {
   "codemirror_mode": {
    "name": "ipython",
    "version": 3
   },
   "file_extension": ".py",
   "mimetype": "text/x-python",
   "name": "python",
   "nbconvert_exporter": "python",
   "pygments_lexer": "ipython3",
   "version": "3.8.5"
  }
 },
 "nbformat": 4,
 "nbformat_minor": 4
}
